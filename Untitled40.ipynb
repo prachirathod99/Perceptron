{
 "cells": [
  {
   "cell_type": "code",
   "execution_count": 16,
   "metadata": {},
   "outputs": [],
   "source": [
    "import numpy as np\n",
    "import matplotlib.pyplot as plt\n",
    "import time"
   ]
  },
  {
   "cell_type": "code",
   "execution_count": 17,
   "metadata": {},
   "outputs": [],
   "source": [
    "\n",
    "# NAND gate features\n",
    "# note: x0 is a dummy variable for the bias term\n",
    "#     x0  x1  x2\n",
    "x = [[1., 0., 0.],                                  \n",
    "     [1., 0., 1.],                                 \n",
    "     [1., 1., 0.],                                  \n",
    "     [1., 1., 1.]] \n",
    "\n",
    "\n",
    "# Desired outputs\n",
    "y = [1.,                                            \n",
    "     1.,                                            \n",
    "     1.,\n",
    "     0.]"
   ]
  },
  {
   "cell_type": "markdown",
   "metadata": {},
   "source": [
    "Training the model in an incremental fashion"
   ]
  },
  {
   "cell_type": "code",
   "execution_count": 18,
   "metadata": {},
   "outputs": [
    {
     "name": "stdout",
     "output_type": "stream",
     "text": [
      "The weights are:\n",
      "[ 0.1 -0.2 -0.1] \n",
      "\n",
      "The sum-of-squared erros are:\n",
      "[1.0, 1.5] \n",
      "\n",
      "The time required for incremental\n",
      "0.001970529556274414\n"
     ]
    }
   ],
   "source": [
    "#Training a perceptron\n",
    "#x - features\n",
    "#y - target outputs\n",
    "#z - threshold\n",
    "#eta - learning rate\n",
    "#t - number of iterations\n",
    "tic = time.time()\n",
    "\n",
    "def perceptron_train(x, y, z, eta, t):\n",
    "    \n",
    "    # Initializing parameters for the Perceptron\n",
    "    w = np.zeros(len(x[0]))        # weights \n",
    "    n = 0                          \n",
    "    \n",
    "    # Initializing additional parameters to compute SSE\n",
    "    yhat_vec = np.ones(len(y))     # vector for predictions\n",
    "    errors = np.ones(len(y))       # vector for errors (actual - predictions)\n",
    "    J = []                         # vector for the SSE cost function\n",
    "     \n",
    "        \n",
    "    while n < t:                                  \n",
    "        for i in range(0, len(x)):                 \n",
    "            \n",
    "            # summation step\n",
    "            f = np.dot(x[i], w)      #output of the input layer                \n",
    "                        \n",
    "            # activation function    \n",
    "            if f > z:                               \n",
    "                yhat = 1.                               \n",
    "            else:                                   \n",
    "                yhat = 0. \n",
    "            yhat_vec[i] = yhat                              \n",
    "        \n",
    "            # updating the weights\n",
    "            for j in range(0, len(w)):             \n",
    "                w[j] = w[j] + eta*(y[i]-yhat)*x[i][j]\n",
    "                \n",
    "            n += 1     \n",
    "\n",
    "        # computing the sum-of-squared errors\n",
    "        for i in range(0,len(y)):     \n",
    "            errors[i] = (y[i]-yhat_vec[i])**2   #using the least mean squarred error function\n",
    "        J.append(0.5*np.sum(errors))\n",
    "           \n",
    "    # function returns the weight vector, and sum-of-squared errors        \n",
    "    return w, J\n",
    "\n",
    "\n",
    "z = 0.0     # threshold\n",
    "eta = 0.1   # learning rate\n",
    "t = 5      # number of iterations\n",
    "\n",
    "print (\"The weights are:\")\n",
    "print (perceptron_train(x, y, z, eta, t)[0], \"\\n\")\n",
    "\n",
    "print (\"The sum-of-squared erros are:\")\n",
    "print (perceptron_train(x, y, z, eta, t)[1], \"\\n\")\n",
    "\n",
    "elapsed = time.time() - tic\n",
    "\n",
    "print (\"The time required for incremental\")\n",
    "print (elapsed)"
   ]
  },
  {
   "cell_type": "code",
   "execution_count": 19,
   "metadata": {},
   "outputs": [
    {
     "data": {
      "text/plain": [
       "Text(0.5, 1.0, 'Perceptron Convergence')"
      ]
     },
     "execution_count": 19,
     "metadata": {},
     "output_type": "execute_result"
    },
    {
     "data": {
      "image/png": "[encoded data removed]",
      "text/plain": [
       "<Figure size 432x288 with 1 Axes>"
      ]
     },
     "metadata": {
      "needs_background": "light"
     },
     "output_type": "display_data"
    }
   ],
   "source": [
    "\n",
    "J = perceptron_train(x, y, z, eta, t)[1]     # pulling out the sum-of-squared errors from the tuple\n",
    "epoch = np.linspace(1,len(J),len(J))\n",
    "\n",
    "%matplotlib inline  \n",
    "plt.plot(epoch, J)\n",
    "plt.xlabel('Epoch')\n",
    "plt.ylabel('Sum-of-Squared Error')\n",
    "plt.title('Perceptron Convergence')"
   ]
  },
  {
   "cell_type": "code",
   "execution_count": 20,
   "metadata": {},
   "outputs": [
    {
     "name": "stdout",
     "output_type": "stream",
     "text": [
      "The weights are:\n",
      "[ 1.  -1.  -0.5] \n",
      "\n",
      "The sum-of-squared erros are:\n",
      "[1.0, 1.5, 1.5]\n"
     ]
    },
    {
     "data": {
      "text/plain": [
       "Text(0.5, 1.0, 'Perceptron Convergence')"
      ]
     },
     "execution_count": 20,
     "metadata": {},
     "output_type": "execute_result"
    },
    {
     "data": {
      "image/png": "[encoded data removed]",
      "text/plain": [
       "<Figure size 432x288 with 1 Axes>"
      ]
     },
     "metadata": {
      "needs_background": "light"
     },
     "output_type": "display_data"
    }
   ],
   "source": [
    "eta = 0.5     # new learning rate\n",
    "z = 0.0\n",
    "t = 10\n",
    "\n",
    "print (\"The weights are:\")\n",
    "print (perceptron_train(x, y, z, eta, t)[0], \"\\n\")\n",
    "\n",
    "J = perceptron_train(x, y, z, eta, t)[1]\n",
    "epoch = np.linspace(1,len(J),len(J))\n",
    "print (\"The sum-of-squared erros are:\")\n",
    "print (J)\n",
    "\n",
    "%matplotlib inline\n",
    "plt.plot(epoch, J)\n",
    "plt.xlabel('Epoch')\n",
    "plt.ylabel('Sum-of-Squared Error')\n",
    "plt.title('Perceptron Convergence')"
   ]
  },
  {
   "cell_type": "markdown",
   "metadata": {},
   "source": [
    "Training the model in batch fashion"
   ]
  },
  {
   "cell_type": "code",
   "execution_count": 21,
   "metadata": {},
   "outputs": [
    {
     "name": "stdout",
     "output_type": "stream",
     "text": [
      "The weights are:\n",
      "[57.5 -3.5 -3.5] \n",
      "\n",
      "The sum-of-squared erros are:\n",
      "[1.0, 0.5] \n",
      "\n",
      "The time required for incremental\n",
      "0.0019958019256591797\n"
     ]
    }
   ],
   "source": [
    " \n",
    "tic_1 = time.time()\n",
    "\n",
    "def perceptron_train(x, y, z, eta, t):\n",
    "    \n",
    "    # Initializing parameters for the Perceptron\n",
    "    w = np.zeros(len(x[0]))        # weights \n",
    "    n = 0             \n",
    "    T = 0\n",
    "    delta_accumalated = np.zeros(len(x[0]))\n",
    "    \n",
    "    # Initializing additional parameters to compute SSE\n",
    "    yhat_vec = np.ones(len(y))     # vector for predictions\n",
    "    errors = np.ones(len(y))       # vector for errors (actual - predictions)\n",
    "    J = []                         # vector for the SSE cost function\n",
    "     \n",
    "        \n",
    "    while n < t:                                  \n",
    "        for i in range(0, len(x)):                 \n",
    "            \n",
    "            # summation step\n",
    "            f = np.dot(x[i], w)      #output of the input layer                \n",
    "                        \n",
    "            # activation function    \n",
    "            if f > z:                               \n",
    "                yhat = 1.                               \n",
    "            else:                                   \n",
    "                yhat = 0. \n",
    "            yhat_vec[i] = yhat                              \n",
    "        \n",
    "            # updating the weights\n",
    "            for j in range(0, len(w)):             \n",
    "                w[j] = w[j] + eta*(y[i]-yhat)*x[i][j] + delta_accumalated[j]\n",
    "                \n",
    "                delta_accumalated[j] = delta_accumalated[j] + w[j]\n",
    "                \n",
    "                \n",
    "            n += 1     \n",
    "        T += 1\n",
    "\n",
    "        # computing the sum-of-squared errors\n",
    "        for i in range(0,len(y)):     \n",
    "            errors[i] = (y[i]-yhat_vec[i])**2   #using the least mean squarred error function\n",
    "        J.append(0.5*np.sum(errors))\n",
    "           \n",
    "    # function returns the weight vector, and sum-of-squared errors        \n",
    "    return w, J\n",
    "\n",
    "\n",
    "z = 0.0     # threshold\n",
    "eta = 0.1   # learning rate\n",
    "t = 5      # number of iterations\n",
    "\n",
    "print (\"The weights are:\")\n",
    "print (perceptron_train(x, y, z, eta, t)[0], \"\\n\")\n",
    "\n",
    "print (\"The sum-of-squared erros are:\")\n",
    "print (perceptron_train(x, y, z, eta, t)[1], \"\\n\")\n",
    "\n",
    "elapsed = time.time() - tic_1\n",
    "\n",
    "print (\"The time required for incremental\")\n",
    "print (elapsed)"
   ]
  },
  {
   "cell_type": "markdown",
   "metadata": {},
   "source": [
    "We can see that the model trains faster when it is trained in a batch fashion as comapred to an incremental step, where the model takes a single input and updates every single example"
   ]
  },
  {
   "cell_type": "markdown",
   "metadata": {},
   "source": [
    "Error vs epochs for 5 iterations with batch learning"
   ]
  },
  {
   "cell_type": "code",
   "execution_count": 22,
   "metadata": {},
   "outputs": [
    {
     "data": {
      "text/plain": [
       "Text(0.5, 1.0, 'Perceptron Convergence')"
      ]
     },
     "execution_count": 22,
     "metadata": {},
     "output_type": "execute_result"
    },
    {
     "data": {
      "image/png": "[encoded data removed]",
      "text/plain": [
       "<Figure size 432x288 with 1 Axes>"
      ]
     },
     "metadata": {
      "needs_background": "light"
     },
     "output_type": "display_data"
    }
   ],
   "source": [
    "\n",
    "J = perceptron_train(x, y, z, eta, t)[1]     # pulling out the sum-of-squared errors from the tuple\n",
    "epoch = np.linspace(1,len(J),len(J))\n",
    "\n",
    "%matplotlib inline  \n",
    "plt.plot(epoch, J)\n",
    "plt.xlabel('Epoch')\n",
    "plt.ylabel('Sum-of-Squared Error')\n",
    "plt.title('Perceptron Convergence')"
   ]
  },
  {
   "cell_type": "code",
   "execution_count": 23,
   "metadata": {},
   "outputs": [
    {
     "name": "stdout",
     "output_type": "stream",
     "text": [
      "The weights are:\n",
      "[13512.5  -816.   -816. ] \n",
      "\n",
      "The sum-of-squared erros are:\n",
      "[1.0, 0.5, 0.5]\n"
     ]
    },
    {
     "data": {
      "text/plain": [
       "Text(0.5, 1.0, 'Perceptron Convergence')"
      ]
     },
     "execution_count": 23,
     "metadata": {},
     "output_type": "execute_result"
    },
    {
     "data": {
      "image/png": "[encoded data removed]",
      "text/plain": [
       "<Figure size 432x288 with 1 Axes>"
      ]
     },
     "metadata": {
      "needs_background": "light"
     },
     "output_type": "display_data"
    }
   ],
   "source": [
    "eta = 0.5     # new learning rate\n",
    "z = 0.0\n",
    "t = 10\n",
    "\n",
    "print (\"The weights are:\")\n",
    "print (perceptron_train(x, y, z, eta, t)[0], \"\\n\")\n",
    "\n",
    "J = perceptron_train(x, y, z, eta, t)[1]\n",
    "epoch = np.linspace(1,len(J),len(J))\n",
    "print (\"The sum-of-squared erros are:\")\n",
    "print (J)\n",
    "\n",
    "%matplotlib inline\n",
    "plt.plot(epoch, J)\n",
    "plt.xlabel('Epoch')\n",
    "plt.ylabel('Sum-of-Squared Error')\n",
    "plt.title('Perceptron Convergence')"
   ]
  },
  {
   "cell_type": "code",
   "execution_count": 24,
   "metadata": {},
   "outputs": [
    {
     "name": "stdout",
     "output_type": "stream",
     "text": [
      "The weights are:\n",
      "[ 7.0754035e+20 -4.2719918e+19 -4.2719918e+19] \n",
      "\n",
      "The sum-of-squared erros are:\n",
      "[1.0, 0.5, 0.5, 0.5, 0.5, 0.5, 0.5, 0.5, 0.5, 0.5, 0.5, 0.5, 0.5]\n"
     ]
    },
    {
     "data": {
      "text/plain": [
       "Text(0.5, 1.0, 'Perceptron Convergence')"
      ]
     },
     "execution_count": 24,
     "metadata": {},
     "output_type": "execute_result"
    },
    {
     "data": {
      "image/png": "[encoded data removed]",
      "text/plain": [
       "<Figure size 432x288 with 1 Axes>"
      ]
     },
     "metadata": {
      "needs_background": "light"
     },
     "output_type": "display_data"
    }
   ],
   "source": [
    "eta = 0.5     # new learning rate\n",
    "z = 0.0\n",
    "t = 50   #for 100 iterations\n",
    "\n",
    "print (\"The weights are:\")\n",
    "print (perceptron_train(x, y, z, eta, t)[0], \"\\n\")\n",
    "\n",
    "J = perceptron_train(x, y, z, eta, t)[1]\n",
    "epoch = np.linspace(1,len(J),len(J))\n",
    "print (\"The sum-of-squared erros are:\")\n",
    "print (J)\n",
    "\n",
    "%matplotlib inline\n",
    "plt.plot(epoch, J)\n",
    "plt.xlabel('Epoch')\n",
    "plt.ylabel('Sum-of-Squared Error')\n",
    "plt.title('Perceptron Convergence')"
   ]
  },
  {
   "cell_type": "code",
   "execution_count": 25,
   "metadata": {},
   "outputs": [
    {
     "name": "stdout",
     "output_type": "stream",
     "text": [
      "The weights are:\n",
      "[ 8.17644794e+40 -4.93678114e+39 -4.93678114e+39] \n",
      "\n",
      "The sum-of-squared erros are:\n",
      "[1.0, 0.5, 0.5, 0.5, 0.5, 0.5, 0.5, 0.5, 0.5, 0.5, 0.5, 0.5, 0.5, 0.5, 0.5, 0.5, 0.5, 0.5, 0.5, 0.5, 0.5, 0.5, 0.5, 0.5, 0.5]\n"
     ]
    },
    {
     "data": {
      "text/plain": [
       "Text(0.5, 1.0, 'Perceptron Convergence')"
      ]
     },
     "execution_count": 25,
     "metadata": {},
     "output_type": "execute_result"
    },
    {
     "data": {
      "image/png": "[encoded data removed]",
      "text/plain": [
       "<Figure size 432x288 with 1 Axes>"
      ]
     },
     "metadata": {
      "needs_background": "light"
     },
     "output_type": "display_data"
    }
   ],
   "source": [
    "eta = 0.5     # new learning rate\n",
    "z = 0.0\n",
    "t = 100   #for 150 iterations\n",
    "\n",
    "print (\"The weights are:\")\n",
    "print (perceptron_train(x, y, z, eta, t)[0], \"\\n\")\n",
    "\n",
    "J = perceptron_train(x, y, z, eta, t)[1]\n",
    "epoch = np.linspace(1,len(J),len(J))\n",
    "print (\"The sum-of-squared erros are:\")\n",
    "print (J)\n",
    "\n",
    "%matplotlib inline\n",
    "plt.plot(epoch, J)\n",
    "plt.xlabel('Epoch')\n",
    "plt.ylabel('Sum-of-Squared Error')\n",
    "plt.title('Perceptron Convergence')"
   ]
  },
  {
   "cell_type": "code",
   "execution_count": 26,
   "metadata": {},
   "outputs": [
    {
     "name": "stdout",
     "output_type": "stream",
     "text": [
      "The weights are:\n",
      "[ 4.43893987e+62 -2.68014605e+61 -2.68014605e+61] \n",
      "\n",
      "The sum-of-squared erros are:\n",
      "[1.0, 0.5, 0.5, 0.5, 0.5, 0.5, 0.5, 0.5, 0.5, 0.5, 0.5, 0.5, 0.5, 0.5, 0.5, 0.5, 0.5, 0.5, 0.5, 0.5, 0.5, 0.5, 0.5, 0.5, 0.5, 0.5, 0.5, 0.5, 0.5, 0.5, 0.5, 0.5, 0.5, 0.5, 0.5, 0.5, 0.5, 0.5]\n"
     ]
    },
    {
     "data": {
      "text/plain": [
       "Text(0.5, 1.0, 'Perceptron Convergence')"
      ]
     },
     "execution_count": 26,
     "metadata": {},
     "output_type": "execute_result"
    },
    {
     "data": {
      "image/png": "[encoded data removed]",
      "text/plain": [
       "<Figure size 432x288 with 1 Axes>"
      ]
     },
     "metadata": {
      "needs_background": "light"
     },
     "output_type": "display_data"
    }
   ],
   "source": [
    "eta = 0.5     # new learning rate\n",
    "z = 0.0\n",
    "t = 150   #for 150 iterations\n",
    "\n",
    "print (\"The weights are:\")\n",
    "print (perceptron_train(x, y, z, eta, t)[0], \"\\n\")\n",
    "\n",
    "J = perceptron_train(x, y, z, eta, t)[1]\n",
    "epoch = np.linspace(1,len(J),len(J))\n",
    "print (\"The sum-of-squared erros are:\")\n",
    "print (J)\n",
    "\n",
    "%matplotlib inline\n",
    "plt.plot(epoch, J)\n",
    "plt.xlabel('Epoch')\n",
    "plt.ylabel('Sum-of-Squared Error')\n",
    "plt.title('Perceptron Convergence')"
   ]
  },
  {
   "cell_type": "code",
   "execution_count": 27,
   "metadata": {},
   "outputs": [
    {
     "data": {
      "text/plain": [
       "<matplotlib.collections.PathCollection at 0x19ab457c508>"
      ]
     },
     "execution_count": 27,
     "metadata": {},
     "output_type": "execute_result"
    },
    {
     "data": {
      "image/png": "[encoded data removed]",
      "text/plain": [
       "<Figure size 432x288 with 1 Axes>"
      ]
     },
     "metadata": {
      "needs_background": "light"
     },
     "output_type": "display_data"
    }
   ],
   "source": [
    "#plotting the decision boundary on a sythetic dataset:\n",
    "import numpy as np\n",
    "import matplotlib.pyplot as plt\n",
    "%matplotlib inline\n",
    "\n",
    "np.random.seed(5)\n",
    "\n",
    "obs = 1000\n",
    "\n",
    "class_zeros = np.random.multivariate_normal([0,0], [[1.,.95],[.95,1.]], obs)\n",
    "class_ones = np.random.multivariate_normal([1,5], [[1.,.85],[.85,1.]], obs)\n",
    "\n",
    "intercept = np.ones((2*obs,1))\n",
    "\n",
    "features = np.vstack((class_zeros, class_ones)).astype(np.float32)\n",
    "features = np.hstack((intercept, features))\n",
    "\n",
    "label_zeros = np.zeros((obs,1))\n",
    "label_ones = np.ones((obs,1))\n",
    "\n",
    "labels = np.vstack((label_zeros, label_ones))\n",
    "dataset = np.hstack((features,labels))\n",
    "\n",
    "plt.scatter(features[:,1].reshape(2000,1), features[:,2].reshape(2000,1), c = labels)\n",
    "#features[:,1].reshape(2000,1).shape\n",
    "#labels.shape\n",
    "#features[:,2].shape"
   ]
  },
  {
   "cell_type": "code",
   "execution_count": 28,
   "metadata": {},
   "outputs": [],
   "source": [
    "np.random.shuffle(dataset)"
   ]
  },
  {
   "cell_type": "code",
   "execution_count": 29,
   "metadata": {},
   "outputs": [
    {
     "data": {
      "text/plain": [
       "array([[ 1.        ,  1.60682619,  0.99783134,  0.        ],\n",
       "       [ 1.        ,  2.1372149 ,  6.42787838,  1.        ],\n",
       "       [ 1.        , -1.06260276,  2.92960906,  1.        ],\n",
       "       ...,\n",
       "       [ 1.        ,  1.14666581,  1.24810135,  0.        ],\n",
       "       [ 1.        ,  0.784527  ,  4.47033691,  1.        ],\n",
       "       [ 1.        ,  2.13087201,  6.42514753,  1.        ]])"
      ]
     },
     "execution_count": 29,
     "metadata": {},
     "output_type": "execute_result"
    }
   ],
   "source": [
    "dataset"
   ]
  },
  {
   "cell_type": "code",
   "execution_count": 30,
   "metadata": {},
   "outputs": [
    {
     "data": {
      "text/plain": [
       "(2000, 4)"
      ]
     },
     "execution_count": 30,
     "metadata": {},
     "output_type": "execute_result"
    }
   ],
   "source": [
    "dataset.shape"
   ]
  },
  {
   "cell_type": "code",
   "execution_count": 31,
   "metadata": {},
   "outputs": [],
   "source": [
    "train = dataset[0:1400]\n",
    "test = dataset[1400:2000]"
   ]
  },
  {
   "cell_type": "code",
   "execution_count": 32,
   "metadata": {},
   "outputs": [
    {
     "name": "stdout",
     "output_type": "stream",
     "text": [
      "The weights are:\n",
      "[-1.         -0.42576724  0.53154019]\n",
      "The sum-of-squared erros are:\n",
      "[8.0, 0.0, 0.0, 0.0, 0.0]\n"
     ]
    }
   ],
   "source": [
    "x_train = train[:,0:3]\n",
    "y_train = train[:,3]\n",
    "\n",
    "x_test = test[:,0:3]\n",
    "y_test = test[:,3]\n",
    "\n",
    "def perceptron_train(x, y, z, eta, t):\n",
    "    \n",
    "    # Initializing parameters for the Perceptron\n",
    "    weight_1 = np.zeros(len(x[0]))        # weights \n",
    "    n = 0 \n",
    "    b = np.zeros(len(x[0]))\n",
    "    \n",
    "    # Initializing additional parameters to compute SSE\n",
    "    yhat_vec = np.ones(len(y))     # vector for predictions\n",
    "    errors = np.ones(len(y))       # vector for errors (actual - predictions)\n",
    "    J_err_1 = []                         # vector for the SSE cost function\n",
    "     \n",
    "        \n",
    "    while n < t:                                  \n",
    "        for i in range(0, len(x)):                 \n",
    "            \n",
    "            # summation step\n",
    "            f = np.dot(x[i], weight_1)     #output of the input layer                \n",
    "                        \n",
    "            # activation function    \n",
    "            if f > z:                               \n",
    "                yhat = 1.                               \n",
    "            else:                                   \n",
    "                yhat = 0. \n",
    "            yhat_vec[i] = yhat                              \n",
    "        \n",
    "            # updating the weights\n",
    "            for j in range(0, len(weight_1)):             \n",
    "                weight_1[j] = weight_1[j] + eta*(y[i]-yhat)*x[i][j]\n",
    "                \n",
    "        n += 1     \n",
    "\n",
    "        # computing the sum-of-squared errors\n",
    "        for i in range(0,len(y)):     \n",
    "            errors[i] = (y[i]-yhat_vec[i])**2   #using the least mean squarred error function\n",
    "        J_err_1.append(0.5*np.sum(errors))\n",
    "           \n",
    "    # function returns the weight vector, and sum-of-squared errors        \n",
    "    return weight_1, J_err_1\n",
    "\n",
    "\n",
    "z = 0.0     # threshold\n",
    "eta = 0.1   # learning rate\n",
    "t = 5      # number of iterations\n",
    "\n",
    "perceptron_train(x_train, y_train, z, eta,t)\n",
    "\n",
    "weight_1 = perceptron_train(x_train, y_train.reshape(1400,1), z, eta, t)[0]\n",
    "J_err_1 = perceptron_train(x_train, y_train.reshape(1400,1), z, eta, t)[1]\n",
    "\n",
    "epoch = np.linspace(1,len(J),len(J))\n",
    "\n",
    "\n",
    "print (\"The weights are:\")\n",
    "print (weight_1)\n",
    "\n",
    "print (\"The sum-of-squared erros are:\")\n",
    "print (J_err_1)"
   ]
  },
  {
   "cell_type": "code",
   "execution_count": 33,
   "metadata": {
    "scrolled": true
   },
   "outputs": [
    {
     "data": {
      "text/plain": [
       "Text(0.5, 1.0, 'Perceptron Convergence')"
      ]
     },
     "execution_count": 33,
     "metadata": {},
     "output_type": "execute_result"
    },
    {
     "data": {
      "image/png": "[encoded data removed]",
      "text/plain": [
       "<Figure size 432x288 with 1 Axes>"
      ]
     },
     "metadata": {
      "needs_background": "light"
     },
     "output_type": "display_data"
    }
   ],
   "source": [
    "# plotting SSE as a function of epoch\n",
    "J_err_1 = perceptron_train(x_train, y_train.reshape(1400,1), z, eta, t)[1]\n",
    "epoch = np.linspace(1,len(J_err_1),len(J_err_1))\n",
    "\n",
    "plt.figure(1)\n",
    "plt.plot(epoch, J_err_1)\n",
    "plt.xlabel('Epoch')\n",
    "plt.ylabel('Sum-of-Squared Error')\n",
    "plt.title('Perceptron Convergence')"
   ]
  },
  {
   "cell_type": "code",
   "execution_count": 34,
   "metadata": {},
   "outputs": [
    {
     "name": "stdout",
     "output_type": "stream",
     "text": [
      "The weights are:\n",
      "[-1.         -0.42576724  0.53154019]\n",
      "The sum-of-squared erros are:\n",
      "[8.0, 0.0, 0.0, 0.0, 0.0, 0.0, 0.0, 0.0, 0.0, 0.0]\n"
     ]
    }
   ],
   "source": [
    "z = 0.0     # threshold\n",
    "eta = 0.1   # learning rate\n",
    "t = 10      # number of iterations\n",
    "\n",
    "perceptron_train(x_train, y_train, z, eta,t)\n",
    "\n",
    "weight_2 = perceptron_train(x_train, y_train.reshape(1400,1), z, eta, t)[0]\n",
    "J_err_2 = perceptron_train(x_train, y_train.reshape(1400,1), z, eta, t)[1]\n",
    "epoch = np.linspace(1,len(J),len(J))\n",
    "\n",
    "\n",
    "print (\"The weights are:\")\n",
    "print (weight_2)\n",
    "\n",
    "print (\"The sum-of-squared erros are:\")\n",
    "print (J_err_2)"
   ]
  },
  {
   "cell_type": "code",
   "execution_count": 35,
   "metadata": {},
   "outputs": [
    {
     "data": {
      "text/plain": [
       "Text(0.5, 1.0, 'Perceptron Convergence')"
      ]
     },
     "execution_count": 35,
     "metadata": {},
     "output_type": "execute_result"
    },
    {
     "data": {
      "image/png": "[encoded data removed]",
      "text/plain": [
       "<Figure size 432x288 with 1 Axes>"
      ]
     },
     "metadata": {
      "needs_background": "light"
     },
     "output_type": "display_data"
    }
   ],
   "source": [
    "# plotting SSE as a function of epoch\n",
    "J1 = perceptron_train(x_train, y_train.reshape(1400,1), z, eta, t)[1]\n",
    "epoch = np.linspace(1,len(J1),len(J1))\n",
    "\n",
    "plt.figure(1)\n",
    "plt.plot(epoch, J1)\n",
    "plt.xlabel('Epoch')\n",
    "plt.ylabel('Sum-of-Squared Error')\n",
    "plt.title('Perceptron Convergence')"
   ]
  },
  {
   "cell_type": "code",
   "execution_count": 36,
   "metadata": {},
   "outputs": [
    {
     "name": "stdout",
     "output_type": "stream",
     "text": [
      "The weights are:\n",
      "[-1.         -0.42576724  0.53154019]\n",
      "The sum-of-squared erros are:\n",
      "[8.0, 0.0, 0.0, 0.0, 0.0, 0.0, 0.0, 0.0, 0.0, 0.0, 0.0, 0.0, 0.0, 0.0, 0.0, 0.0, 0.0, 0.0, 0.0, 0.0, 0.0, 0.0, 0.0, 0.0, 0.0, 0.0, 0.0, 0.0, 0.0, 0.0, 0.0, 0.0, 0.0, 0.0, 0.0, 0.0, 0.0, 0.0, 0.0, 0.0, 0.0, 0.0, 0.0, 0.0, 0.0, 0.0, 0.0, 0.0, 0.0, 0.0]\n"
     ]
    }
   ],
   "source": [
    "z = 0.0     # threshold\n",
    "eta = 0.1   # learning rate\n",
    "t = 50      # number of iterations\n",
    "\n",
    "perceptron_train(x_train, y_train, z, eta,t)\n",
    "\n",
    "weight_3 = perceptron_train(x_train, y_train.reshape(1400,1), z, eta, t)[0]\n",
    "J_err_3 = perceptron_train(x_train, y_train.reshape(1400,1), z, eta, t)[1]\n",
    "epoch = np.linspace(1,len(J),len(J))\n",
    "\n",
    "\n",
    "print (\"The weights are:\")\n",
    "print (weight_3)\n",
    "\n",
    "print (\"The sum-of-squared erros are:\")\n",
    "print (J_err_3)"
   ]
  },
  {
   "cell_type": "code",
   "execution_count": 37,
   "metadata": {},
   "outputs": [
    {
     "data": {
      "text/plain": [
       "Text(0.5, 1.0, 'Perceptron Convergence')"
      ]
     },
     "execution_count": 37,
     "metadata": {},
     "output_type": "execute_result"
    },
    {
     "data": {
      "image/png": "[encoded data removed]",
      "text/plain": [
       "<Figure size 432x288 with 1 Axes>"
      ]
     },
     "metadata": {
      "needs_background": "light"
     },
     "output_type": "display_data"
    }
   ],
   "source": [
    "# plotting SSE as a function of epoch\n",
    "J_err_3 = perceptron_train(x_train, y_train.reshape(1400,1), z, eta, t)[1]\n",
    "epoch = np.linspace(1,len(J_err_3),len(J_err_3))\n",
    "\n",
    "plt.figure(1)\n",
    "plt.plot(epoch, J_err_3)\n",
    "plt.xlabel('Epoch')\n",
    "plt.ylabel('Sum-of-Squared Error')\n",
    "plt.title('Perceptron Convergence')"
   ]
  },
  {
   "cell_type": "code",
   "execution_count": 38,
   "metadata": {},
   "outputs": [
    {
     "name": "stdout",
     "output_type": "stream",
     "text": [
      "The weights are:\n",
      "[-1.         -0.42576724  0.53154019]\n",
      "The sum-of-squared erros are:\n",
      "[8.0, 0.0, 0.0, 0.0, 0.0, 0.0, 0.0, 0.0, 0.0, 0.0, 0.0, 0.0, 0.0, 0.0, 0.0, 0.0, 0.0, 0.0, 0.0, 0.0, 0.0, 0.0, 0.0, 0.0, 0.0, 0.0, 0.0, 0.0, 0.0, 0.0, 0.0, 0.0, 0.0, 0.0, 0.0, 0.0, 0.0, 0.0, 0.0, 0.0, 0.0, 0.0, 0.0, 0.0, 0.0, 0.0, 0.0, 0.0, 0.0, 0.0, 0.0, 0.0, 0.0, 0.0, 0.0, 0.0, 0.0, 0.0, 0.0, 0.0, 0.0, 0.0, 0.0, 0.0, 0.0, 0.0, 0.0, 0.0, 0.0, 0.0, 0.0, 0.0, 0.0, 0.0, 0.0, 0.0, 0.0, 0.0, 0.0, 0.0, 0.0, 0.0, 0.0, 0.0, 0.0, 0.0, 0.0, 0.0, 0.0, 0.0, 0.0, 0.0, 0.0, 0.0, 0.0, 0.0, 0.0, 0.0, 0.0, 0.0]\n"
     ]
    }
   ],
   "source": [
    "z = 0.0     # threshold\n",
    "eta = 0.1   # learning rate\n",
    "t = 100      # number of iterations\n",
    "\n",
    "perceptron_train(x_train, y_train, z, eta,t)\n",
    "\n",
    "weight_4 = perceptron_train(x_train, y_train.reshape(1400,1), z, eta, t)[0]\n",
    "J_err_4 = perceptron_train(x_train, y_train.reshape(1400,1), z, eta, t)[1]\n",
    "epoch = np.linspace(1,len(J_err_4),len(J_err_4))\n",
    "\n",
    "\n",
    "print (\"The weights are:\")\n",
    "print (weight_4)\n",
    "\n",
    "print (\"The sum-of-squared erros are:\")\n",
    "print (J_err_4)"
   ]
  },
  {
   "cell_type": "code",
   "execution_count": 39,
   "metadata": {},
   "outputs": [
    {
     "data": {
      "text/plain": [
       "Text(0.5, 1.0, 'Perceptron Convergence')"
      ]
     },
     "execution_count": 39,
     "metadata": {},
     "output_type": "execute_result"
    },
    {
     "data": {
      "image/png": "[encoded data removed]",
      "text/plain": [
       "<Figure size 432x288 with 1 Axes>"
      ]
     },
     "metadata": {
      "needs_background": "light"
     },
     "output_type": "display_data"
    }
   ],
   "source": [
    "# plotting SSE as a function of epoch\n",
    "J3 = perceptron_train(x_train, y_train.reshape(1400,1), z, eta, t)[1]\n",
    "epoch = np.linspace(1,len(J3),len(J3))\n",
    "\n",
    "plt.figure(1)\n",
    "plt.plot(epoch, J3)\n",
    "plt.xlabel('Epoch')\n",
    "plt.ylabel('Sum-of-Squared Error')\n",
    "plt.title('Perceptron Convergence')"
   ]
  },
  {
   "cell_type": "code",
   "execution_count": 40,
   "metadata": {},
   "outputs": [
    {
     "name": "stdout",
     "output_type": "stream",
     "text": [
      "1.0\n"
     ]
    }
   ],
   "source": [
    "\n",
    "from sklearn.metrics import accuracy_score\n",
    "\n",
    "w = perceptron_train(x_train, y_train.reshape(1400,1), z, eta, t)[0]\n",
    "\n",
    "\n",
    "def perceptron_test(x, w, z, eta, t):\n",
    "    y_pred = []\n",
    "    for i in range(0, len(x-1)):\n",
    "        f = np.dot(x[i], w)   \n",
    "\n",
    "            # activation function\n",
    "        if f > z:                               \n",
    "            yhat = 1                               \n",
    "        else:                                   \n",
    "            yhat = 0 \n",
    "        y_pred.append(yhat)\n",
    "    return y_pred\n",
    "        \n",
    "y_pred = perceptron_test(x_test, w, z, eta, t)\n",
    "\n",
    "print (accuracy_score(y_test, y_pred))"
   ]
  },
  {
   "cell_type": "markdown",
   "metadata": {},
   "source": [
    "Decision boundary for 5"
   ]
  },
  {
   "cell_type": "code",
   "execution_count": 41,
   "metadata": {},
   "outputs": [
    {
     "data": {
      "text/plain": [
       "[<matplotlib.lines.Line2D at 0x19ab5963a08>]"
      ]
     },
     "execution_count": 41,
     "metadata": {},
     "output_type": "execute_result"
    },
    {
     "data": {
      "image/png": "[encoded data removed]",
      "text/plain": [
       "<Figure size 432x288 with 1 Axes>"
      ]
     },
     "metadata": {
      "needs_background": "light"
     },
     "output_type": "display_data"
    }
   ],
   "source": [
    "\n",
    "# plot the decision boundary\n",
    "# 0 = w0x0 + w1x1 + w2x2\n",
    "# x2 = (-w0x0-w1x1)/w2\n",
    "\n",
    "min = np.min(x_test[:,1])\n",
    "max = np.max(x_test[:,1])\n",
    "x1 = np.linspace(min,max,100)\n",
    "\n",
    "def x2(x1, w):\n",
    "    w0 = w[0]\n",
    "    w_1 = w[1]\n",
    "    w_2 = w[2]\n",
    "    x2 = []\n",
    "    for i in range(0, len(x1-1)):\n",
    "        x2_temp = (-w0-w_1*x1[i])/w_2\n",
    "        x2.append(x2_temp)\n",
    "    return x2\n",
    "    \n",
    "x_2 = np.asarray(x2(x1,w))\n",
    "\n",
    "plt.scatter(features[:,1].reshape(2000,1), features[:,2].reshape(2000,1), c = labels)\n",
    "plt.plot(x1, x_2)"
   ]
  },
  {
   "cell_type": "markdown",
   "metadata": {},
   "source": [
    "Decision boundary for 10"
   ]
  },
  {
   "cell_type": "code",
   "execution_count": 42,
   "metadata": {},
   "outputs": [
    {
     "ename": "NameError",
     "evalue": "name 'w2' is not defined",
     "output_type": "error",
     "traceback": [
      "\u001b[1;31m---------------------------------------------------------------------------\u001b[0m",
      "\u001b[1;31mNameError\u001b[0m                                 Traceback (most recent call last)",
      "\u001b[1;32m<ipython-input-42-94f6cbdb4e1d>\u001b[0m in \u001b[0;36m<module>\u001b[1;34m\u001b[0m\n\u001b[0;32m     17\u001b[0m     \u001b[1;32mreturn\u001b[0m \u001b[0mx2\u001b[0m\u001b[1;33m\u001b[0m\u001b[1;33m\u001b[0m\u001b[0m\n\u001b[0;32m     18\u001b[0m \u001b[1;33m\u001b[0m\u001b[0m\n\u001b[1;32m---> 19\u001b[1;33m \u001b[0mx_2\u001b[0m \u001b[1;33m=\u001b[0m \u001b[0mnp\u001b[0m\u001b[1;33m.\u001b[0m\u001b[0masarray\u001b[0m\u001b[1;33m(\u001b[0m\u001b[0mx2\u001b[0m\u001b[1;33m(\u001b[0m\u001b[0mx1\u001b[0m\u001b[1;33m,\u001b[0m\u001b[0mw2\u001b[0m\u001b[1;33m)\u001b[0m\u001b[1;33m)\u001b[0m\u001b[1;33m\u001b[0m\u001b[1;33m\u001b[0m\u001b[0m\n\u001b[0m\u001b[0;32m     20\u001b[0m \u001b[1;33m\u001b[0m\u001b[0m\n\u001b[0;32m     21\u001b[0m \u001b[0mplt\u001b[0m\u001b[1;33m.\u001b[0m\u001b[0mscatter\u001b[0m\u001b[1;33m(\u001b[0m\u001b[0mfeatures\u001b[0m\u001b[1;33m[\u001b[0m\u001b[1;33m:\u001b[0m\u001b[1;33m,\u001b[0m\u001b[1;36m1\u001b[0m\u001b[1;33m]\u001b[0m\u001b[1;33m.\u001b[0m\u001b[0mreshape\u001b[0m\u001b[1;33m(\u001b[0m\u001b[1;36m2000\u001b[0m\u001b[1;33m,\u001b[0m\u001b[1;36m1\u001b[0m\u001b[1;33m)\u001b[0m\u001b[1;33m,\u001b[0m \u001b[0mfeatures\u001b[0m\u001b[1;33m[\u001b[0m\u001b[1;33m:\u001b[0m\u001b[1;33m,\u001b[0m\u001b[1;36m2\u001b[0m\u001b[1;33m]\u001b[0m\u001b[1;33m.\u001b[0m\u001b[0mreshape\u001b[0m\u001b[1;33m(\u001b[0m\u001b[1;36m2000\u001b[0m\u001b[1;33m,\u001b[0m\u001b[1;36m1\u001b[0m\u001b[1;33m)\u001b[0m\u001b[1;33m,\u001b[0m \u001b[0mc\u001b[0m \u001b[1;33m=\u001b[0m \u001b[0mlabels\u001b[0m\u001b[1;33m)\u001b[0m\u001b[1;33m\u001b[0m\u001b[1;33m\u001b[0m\u001b[0m\n",
      "\u001b[1;31mNameError\u001b[0m: name 'w2' is not defined"
     ]
    }
   ],
   "source": [
    "\n",
    "# plot the decision boundary\n",
    "# 0 = w0x0 + w1x1 + w2x2\n",
    "# x2 = (-w0x0-w1x1)/w2\n",
    "\n",
    "min = np.min(x_test[:,1])\n",
    "max = np.max(x_test[:,1])\n",
    "x1 = np.linspace(min,max,100)\n",
    "\n",
    "def x2(x1, w2):\n",
    "    w0 = w2[0]\n",
    "    w_11 = weight_1[1]\n",
    "    w_21 = weight_1[2]\n",
    "    x2 = []\n",
    "    for i in range(0, len(x1-1)):\n",
    "        x2_temp = (-w0-w_11*x1[i])/w_21\n",
    "        x2.append(x2_temp)\n",
    "    return x2\n",
    "    \n",
    "x_2 = np.asarray(x2(x1,w2))\n",
    "\n",
    "plt.scatter(features[:,1].reshape(2000,1), features[:,2].reshape(2000,1), c = labels)\n",
    "plt.plot(x1, x_2)"
   ]
  },
  {
   "cell_type": "markdown",
   "metadata": {},
   "source": [
    "Decision boundary for 50"
   ]
  },
  {
   "cell_type": "code",
   "execution_count": null,
   "metadata": {},
   "outputs": [],
   "source": [
    "\n",
    "# plot the decision boundary\n",
    "# 0 = w0x0 + w1x1 + w2x2\n",
    "# x2 = (-w0x0-w1x1)/w2\n",
    "\n",
    "min = np.min(x_test[:,1])\n",
    "max = np.max(x_test[:,1])\n",
    "x1 = np.linspace(min,max,100)\n",
    "\n",
    "def x2(x1, w3):\n",
    "    w0 = w2[0]\n",
    "    w_13 = weight_2[1]\n",
    "    w_23 = weight_2[2]\n",
    "    x2 = []\n",
    "    for i in range(0, len(x1-1)):\n",
    "        x2_temp = (-w0-w_13*x1[i])/w_23\n",
    "        x2.append(x2_temp)\n",
    "    return x2\n",
    "    \n",
    "x_2 = np.asarray(x2(x1,w3))\n",
    "\n",
    "plt.scatter(features[:,1].reshape(2000,1), features[:,2].reshape(2000,1), c = labels)\n",
    "plt.plot(x1, x_2)"
   ]
  },
  {
   "cell_type": "markdown",
   "metadata": {},
   "source": [
    "Decision boundary for 100"
   ]
  },
  {
   "cell_type": "code",
   "execution_count": null,
   "metadata": {},
   "outputs": [],
   "source": [
    "\n",
    "# plot the decision boundary\n",
    "# 0 = w0x0 + w1x1 + w2x2\n",
    "# x2 = (-w0x0-w1x1)/w2\n",
    "\n",
    "min = np.min(x_test[:,1])\n",
    "max = np.max(x_test[:,1])\n",
    "x1 = np.linspace(min,max,100)\n",
    "\n",
    "def x2(x1, w3):\n",
    "    w0 = w2[0]\n",
    "    w_13 = weight_3[1]\n",
    "    w_23 = weight_3[2]\n",
    "    x2 = []\n",
    "    for i in range(0, len(x1-1)):\n",
    "        x2_temp = (-w0-w_13*x1[i])/w_23\n",
    "        x2.append(x2_temp)\n",
    "    return x2\n",
    "    \n",
    "x_2 = np.asarray(x2(x1,w3))\n",
    "\n",
    "plt.scatter(features[:,1].reshape(2000,1), features[:,2].reshape(2000,1), c = labels)\n",
    "plt.plot(x1, x_2)"
   ]
  },
  {
   "cell_type": "code",
   "execution_count": null,
   "metadata": {},
   "outputs": [],
   "source": [
    "#decaying learning rate:"
   ]
  },
  {
   "cell_type": "code",
   "execution_count": null,
   "metadata": {
    "scrolled": true
   },
   "outputs": [],
   "source": [
    "def perceptron_train(x, y, z, eta, t, decaying_lr):\n",
    "    \n",
    "    # Initializing parameters for the Perceptron\n",
    "    w = np.zeros(len(x[0]))        # weights \n",
    "    n = 0                          \n",
    "    \n",
    "    # Initializing additional parameters to compute SSE\n",
    "    yhat_vec = np.ones(len(y))     # vector for predictions\n",
    "    errors = np.ones(len(y))       # vector for errors (actual - predictions)\n",
    "    J = []                         # vector for the SSE cost function\n",
    "     \n",
    "        \n",
    "    while n < t:                                  \n",
    "        for i in range(0, len(x)):                 \n",
    "            \n",
    "            # summation step\n",
    "            f = np.dot(x[i], w)      #output of the input layer                \n",
    "                        \n",
    "            # activation function    \n",
    "            if f > z:                               \n",
    "                yhat = 1.                               \n",
    "            else:                                   \n",
    "                yhat = 0. \n",
    "            yhat_vec[i] = yhat                              \n",
    "        \n",
    "            # updating the weights\n",
    "            for j in range(0, len(w)):             \n",
    "                w[j] = w[j] + (decaying_lr**(t)*eta)*(y[i]-yhat)*x[i][j]\n",
    "                \n",
    "            n += 1     \n",
    "\n",
    "        # computing the sum-of-squared errors\n",
    "        for i in range(0,len(y)):     \n",
    "            errors[i] = (y[i]-yhat_vec[i])**2   #using the least mean squarred error function\n",
    "        J.append(0.5*np.sum(errors))\n",
    "           \n",
    "    # function returns the weight vector, and sum-of-squared errors        \n",
    "    return w, J\n",
    "\n",
    "\n",
    "z = 0.0     # threshold\n",
    "eta = 0.1   # learning rate\n",
    "t = 50     # number of iterations\n",
    "decaying_lr = 0.3 #lr between (0-1)\n",
    "\n",
    "print (\"The weights are:\")\n",
    "print (perceptron_train(x, y, z, eta, t, decaying_lr)[0], \"\\n\")\n",
    "\n",
    "print (\"The sum-of-squared erros are:\")\n",
    "print (perceptron_train(x, y, z, eta, t, decaying_lr)[1])"
   ]
  },
  {
   "cell_type": "code",
   "execution_count": null,
   "metadata": {},
   "outputs": [],
   "source": [
    "\n",
    "J = perceptron_train(x, y, z, eta, t, decaying_lr)[1]     # pulling out the sum-of-squared errors from the tuple\n",
    "epoch = np.linspace(1,len(J),len(J))\n",
    "\n",
    "%matplotlib inline  \n",
    "plt.plot(epoch, J)\n",
    "plt.xlabel('Epoch')\n",
    "plt.ylabel('Sum-of-Squared Error')\n",
    "plt.title('Perceptron Convergence')"
   ]
  },
  {
   "cell_type": "code",
   "execution_count": null,
   "metadata": {},
   "outputs": [],
   "source": [
    "def perceptron_train(x, y, z, eta, t, decaying_lr):\n",
    "    \n",
    "    # Initializing parameters for the Perceptron\n",
    "    w = np.zeros(len(x[0]))        # weights \n",
    "    n = 0                          \n",
    "    \n",
    "    # Initializing additional parameters to compute SSE\n",
    "    yhat_vec = np.ones(len(y))     # vector for predictions\n",
    "    errors = np.ones(len(y))       # vector for errors (actual - predictions)\n",
    "    J = []                         # vector for the SSE cost function\n",
    "     \n",
    "        \n",
    "    while n < t:                                  \n",
    "        for i in range(0, len(x)):                 \n",
    "            \n",
    "            # summation step\n",
    "            f = np.dot(x[i], w)      #output of the input layer                \n",
    "                        \n",
    "            # activation function    \n",
    "            if f > z:                               \n",
    "                yhat = 1.                               \n",
    "            else:                                   \n",
    "                yhat = 0. \n",
    "            yhat_vec[i] = yhat                              \n",
    "        \n",
    "            # updating the weights\n",
    "            for j in range(0, len(w)):             \n",
    "                w[j] = w[j] + (decaying_lr**(t)*eta)*(y[i]-yhat)*x[i][j]\n",
    "                \n",
    "            n += 1     \n",
    "\n",
    "        # computing the sum-of-squared errors\n",
    "        for i in range(0,len(y)):     \n",
    "            errors[i] = (y[i]-yhat_vec[i])**2   #using the least mean squarred error function\n",
    "        J.append(0.5*np.sum(errors))\n",
    "           \n",
    "    # function returns the weight vector, and sum-of-squared errors        \n",
    "    return w, J\n",
    "\n",
    "\n",
    "z = 0.0     # threshold\n",
    "eta = 0.1   # learning rate\n",
    "t = 400    # number of iterations\n",
    "decaying_lr = 0.1 #lr between (0-1)\n",
    "\n",
    "print (\"The weights are:\")\n",
    "print (perceptron_train(x, y, z, eta, t, decaying_lr)[0], \"\\n\")\n",
    "\n",
    "print (\"The sum-of-squared erros are:\")\n",
    "print (perceptron_train(x, y, z, eta, t, decaying_lr)[1])"
   ]
  },
  {
   "cell_type": "code",
   "execution_count": 104,
   "metadata": {},
   "outputs": [
    {
     "data": {
      "text/plain": [
       "Text(0.5, 1.0, 'Perceptron Convergence')"
      ]
     },
     "execution_count": 104,
     "metadata": {},
     "output_type": "execute_result"
    },
    {
     "data": {
      "image/png": "[encoded data removed]",
      "text/plain": [
       "<Figure size 432x288 with 1 Axes>"
      ]
     },
     "metadata": {
      "needs_background": "light"
     },
     "output_type": "display_data"
    }
   ],
   "source": [
    "\n",
    "J = perceptron_train(x, y, z, eta, t, decaying_lr)[1]     # pulling out the sum-of-squared errors from the tuple\n",
    "epoch = np.linspace(1,len(J),len(J))\n",
    "\n",
    "%matplotlib inline  \n",
    "plt.plot(epoch, J)\n",
    "plt.xlabel('Epoch')\n",
    "plt.ylabel('Sum-of-Squared Error')\n",
    "plt.title('Perceptron Convergence')"
   ]
  },
  {
   "cell_type": "markdown",
   "metadata": {},
   "source": [
    "Starting with initial learning rate:\n",
    "Calculating the network output, error, weights and error for each epoch using current learning rate"
   ]
  },
  {
   "cell_type": "markdown",
   "metadata": {},
   "source": [
    "Adaptive learning rate"
   ]
  },
  {
   "cell_type": "code",
   "execution_count": 118,
   "metadata": {},
   "outputs": [
    {
     "name": "stdout",
     "output_type": "stream",
     "text": [
      "The weights are:\n",
      "[ 0.2 -0.2 -0.1] \n",
      "\n",
      "The sum-of-squared erros are:\n",
      "[1.0, 1.5, 1.5, 0.0, 0.0, 0.0, 0.0, 0.0, 0.0, 0.0, 0.0, 0.0, 0.0] \n",
      "\n",
      "The sum-of-squared erros are:\n",
      "[1. 1. 1. 1.] \n",
      "\n"
     ]
    }
   ],
   "source": [
    "#Training a perceptron\n",
    "#x - features\n",
    "#y - target outputs\n",
    "#z - threshold\n",
    "#eta - learning rate\n",
    "#t - number of iterations\n",
    "\n",
    "def perceptron_train(x, y, z, eta, t):\n",
    "    \n",
    "    # Initializing parameters for the Perceptron\n",
    "    w = np.zeros(len(x[0]))        # weights \n",
    "    new_weights = np.zeros(len(x[0])) #new_weights\n",
    "    new_error = np.ones(len(y))\n",
    "    n = 0                \n",
    "    threshold = 0.5\n",
    "    d = 0.8\n",
    "    D = 1.1\n",
    "    \n",
    "    # Initializing additional parameters to compute SSE\n",
    "    yhat_vec = np.ones(len(y))     # vector for predictions\n",
    "    errors = np.ones(len(y))       # vector for errors (actual - predictions)\n",
    "    J = []                         # vector for the SSE cost function\n",
    "    \n",
    "     \n",
    "        \n",
    "    while n < t:                                  \n",
    "        for i in range(0, len(x)):                 \n",
    "            \n",
    "            # summation step\n",
    "            f = np.dot(x[i], w)      #output of the input layer                \n",
    "                        \n",
    "            # activation function    \n",
    "            if f > z:                               \n",
    "                yhat = 1.                               \n",
    "            else:                                   \n",
    "                yhat = 0. \n",
    "            yhat_vec[i] = yhat                              \n",
    "        \n",
    "            # updating the weights\n",
    "            for j in range(0, len(w)):             \n",
    "                w[j] = w[j] + eta*(y[i]-yhat)*x[i][j]\n",
    "                \n",
    "            n += 1     \n",
    "\n",
    "        # computing the sum-of-squared errors\n",
    "        for i in range(0,len(y)):     \n",
    "            errors[i] = (y[i]-yhat_vec[i])**2   #using the least mean squarred error function\n",
    "        J.append(0.5*np.sum(errors))\n",
    "        \n",
    "        if errors.all() >= threshold:\n",
    "            new_error = J\n",
    "            for k in range(0, len(new_weights)):\n",
    "                new_weights[k] = new_weights[k] + d*eta*(y[i] - yhat)*x[i][j]\n",
    "        else:\n",
    "             for k in range(0, len(new_weights)):\n",
    "                new_weights[k] = new_weights[k] + D*eta*(y[i] - yhat)*x[i][j]\n",
    "            \n",
    "           \n",
    "    # function returns the weight vector, and sum-of-squared errors        \n",
    "    return w, J, new_weights, new_error\n",
    "\n",
    "\n",
    "\n",
    "z = 0.0     # threshold\n",
    "eta = 0.1   # learning rate\n",
    "t = 50      # number of iterations\n",
    "\n",
    "print (\"The weights are:\")\n",
    "print (perceptron_train(x, y, z, eta, t)[0], \"\\n\")\n",
    "\n",
    "print (\"The sum-of-squared erros are:\")\n",
    "print (perceptron_train(x, y, z, eta, t)[1], \"\\n\")\n",
    "\n",
    "print (\"The sum-of-squared erros are:\")\n",
    "print (perceptron_train(x, y, z, eta, t)[3], \"\\n\")\n"
   ]
  },
  {
   "cell_type": "code",
   "execution_count": null,
   "metadata": {},
   "outputs": [],
   "source": []
  }
 ],
 "metadata": {
  "kernelspec": {
   "display_name": "Python 3",
   "language": "python",
   "name": "python3"
  },
  "language_info": {
   "codemirror_mode": {
    "name": "ipython",
    "version": 3
   },
   "file_extension": ".py",
   "mimetype": "text/x-python",
   "name": "python",
   "nbconvert_exporter": "python",
   "pygments_lexer": "ipython3",
   "version": "3.7.6"
  }
 },
 "nbformat": 4,
 "nbformat_minor": 4
}
