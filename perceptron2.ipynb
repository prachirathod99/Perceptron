{
 "cells": [
  {
   "cell_type": "code",
   "execution_count": 107,
   "metadata": {},
   "outputs": [],
   "source": [
    "import numpy as np\n",
    "from numpy.random import seed\n",
    "import pandas as pd\n",
    "import matplotlib.pyplot as plt\n",
    "from matplotlib.colors import ListedColormap\n",
    "from matplotlib import rcParams\n",
    "import time\n",
    "\n",
    "rcParams[\"figure.figsize\"] = 10,5\n",
    "%matplotlib inline"
   ]
  },
  {
   "cell_type": "code",
   "execution_count": 113,
   "metadata": {},
   "outputs": [],
   "source": [
    "class Perceptron(object):\n",
    "    \n",
    "    \"\"\"\n",
    "    Perceptron classifier.\n",
    "    \n",
    "    Parameters\n",
    "    ----------\n",
    "    eta : float\n",
    "          Learning rate (between 0.0 and 1.0)\n",
    "    n_iter: int\n",
    "       Passes(epochs) over the training set\n",
    "       \n",
    "    Attributes\n",
    "    w_ : 1d-array\n",
    "    weights afters fitting\n",
    "    errors_ : list\n",
    "    Number of misclassification in every epoch\n",
    "    \n",
    "    \n",
    "    \"\"\"\n",
    "    def __init__(self, eta = 0.01, n_iter = 10):\n",
    "        self.eta = eta\n",
    "        self.n_iter = n_iter\n",
    "    \n",
    "    def fit(self, X, y):\n",
    "        \"\"\"\n",
    "        Fit method for training data\n",
    "        \n",
    "        Parameters\n",
    "        ------\n",
    "        X: {array-like} , shape = {n_samples, n_sfeatures}\n",
    "        Training vectors, where n_samples is the number of samples\n",
    "        n_features = number of features in the training set\n",
    "        \n",
    "        y : {array-like} , shape = [n_samples]\n",
    "        \n",
    "        Returns\n",
    "        ----\n",
    "        self : object\n",
    "        \n",
    "        \"\"\"\n",
    "        self.w_ = np.zeros(1 + X.shape[1])\n",
    "        self.errors_ = []\n",
    "        \n",
    "        for _ in range(self.n_iter):\n",
    "            errors = 0\n",
    "            for xi, target in zip(X,y):\n",
    "                update = self.eta * (target - self.predict(xi))\n",
    "                self.w_[1:] += update * xi\n",
    "                self.w_[0] += update\n",
    "                errors += int(update != 0.0)\n",
    "            self.errors_.append(errors)\n",
    "        return self\n",
    "    \n",
    "    def net_input(self, X):\n",
    "        \"\"\"\n",
    "        Calculates the net input \n",
    "        \"\"\"\n",
    "        return np.dot(X, self.w_[1:]) + self.w_[0]\n",
    "    \n",
    "    def predict(self, X):\n",
    "        \"\"\"\n",
    "        Return class label after unit step\n",
    "        \"\"\"\n",
    "        return np.where(self.net_input(X) >= 0.0, 1, -1)"
   ]
  },
  {
   "cell_type": "code",
   "execution_count": 114,
   "metadata": {},
   "outputs": [],
   "source": [
    "#reading a csv file whihc will take input of arrays which will be a linearly seperable class\n",
    "df = pd.read_csv('iris.csv', header = None)"
   ]
  },
  {
   "cell_type": "code",
   "execution_count": 115,
   "metadata": {},
   "outputs": [
    {
     "data": {
      "text/html": [
       "<div>\n",
       "<style scoped>\n",
       "    .dataframe tbody tr th:only-of-type {\n",
       "        vertical-align: middle;\n",
       "    }\n",
       "\n",
       "    .dataframe tbody tr th {\n",
       "        vertical-align: top;\n",
       "    }\n",
       "\n",
       "    .dataframe thead th {\n",
       "        text-align: right;\n",
       "    }\n",
       "</style>\n",
       "<table border=\"1\" class=\"dataframe\">\n",
       "  <thead>\n",
       "    <tr style=\"text-align: right;\">\n",
       "      <th></th>\n",
       "      <th>0</th>\n",
       "      <th>1</th>\n",
       "      <th>2</th>\n",
       "      <th>3</th>\n",
       "      <th>4</th>\n",
       "    </tr>\n",
       "  </thead>\n",
       "  <tbody>\n",
       "    <tr>\n",
       "      <th>0</th>\n",
       "      <td>5.1</td>\n",
       "      <td>3.5</td>\n",
       "      <td>1.4</td>\n",
       "      <td>0.2</td>\n",
       "      <td>Iris-setosa</td>\n",
       "    </tr>\n",
       "    <tr>\n",
       "      <th>1</th>\n",
       "      <td>4.9</td>\n",
       "      <td>3.0</td>\n",
       "      <td>1.4</td>\n",
       "      <td>0.2</td>\n",
       "      <td>Iris-setosa</td>\n",
       "    </tr>\n",
       "    <tr>\n",
       "      <th>2</th>\n",
       "      <td>4.7</td>\n",
       "      <td>3.2</td>\n",
       "      <td>1.3</td>\n",
       "      <td>0.2</td>\n",
       "      <td>Iris-setosa</td>\n",
       "    </tr>\n",
       "    <tr>\n",
       "      <th>3</th>\n",
       "      <td>4.6</td>\n",
       "      <td>3.1</td>\n",
       "      <td>1.5</td>\n",
       "      <td>0.2</td>\n",
       "      <td>Iris-setosa</td>\n",
       "    </tr>\n",
       "    <tr>\n",
       "      <th>4</th>\n",
       "      <td>5.0</td>\n",
       "      <td>3.6</td>\n",
       "      <td>1.4</td>\n",
       "      <td>0.2</td>\n",
       "      <td>Iris-setosa</td>\n",
       "    </tr>\n",
       "  </tbody>\n",
       "</table>\n",
       "</div>"
      ],
      "text/plain": [
       "     0    1    2    3            4\n",
       "0  5.1  3.5  1.4  0.2  Iris-setosa\n",
       "1  4.9  3.0  1.4  0.2  Iris-setosa\n",
       "2  4.7  3.2  1.3  0.2  Iris-setosa\n",
       "3  4.6  3.1  1.5  0.2  Iris-setosa\n",
       "4  5.0  3.6  1.4  0.2  Iris-setosa"
      ]
     },
     "execution_count": 115,
     "metadata": {},
     "output_type": "execute_result"
    }
   ],
   "source": [
    "df.head()"
   ]
  },
  {
   "cell_type": "code",
   "execution_count": 116,
   "metadata": {},
   "outputs": [],
   "source": [
    "y = df.iloc[0:100, 4].values\n",
    "\n",
    "negative_class = -1\n",
    "positive_class = 1\n",
    "\n",
    "condition=y == \"Iris-setosa\"\n",
    "y = np.where(condition, \n",
    "             negative_class,\n",
    "             positive_class)\n",
    "\n",
    "X = data.iloc[0:100, [0, 2]].values\n"
   ]
  },
  {
   "cell_type": "code",
   "execution_count": 117,
   "metadata": {},
   "outputs": [
    {
     "data": {
      "text/plain": [
       "<matplotlib.legend.Legend at 0x202ea287ac8>"
      ]
     },
     "execution_count": 117,
     "metadata": {},
     "output_type": "execute_result"
    },
    {
     "data": {
      "image/png": "[encoded data removed]",
      "text/plain": [
       "<Figure size 432x288 with 1 Axes>"
      ]
     },
     "metadata": {
      "needs_background": "light"
     },
     "output_type": "display_data"
    }
   ],
   "source": [
    "sepal_length = X[0:50, 0]\n",
    "petal_length = X[0:50, 1]\n",
    "color = \"red\"\n",
    "marker = \"o\"\n",
    "label = \"setosa\"\n",
    "plt.scatter(x = sepal_length,\n",
    "           y = petal_length,\n",
    "           color=color,\n",
    "           marker=marker,\n",
    "           label=label)\n",
    "\n",
    "sepal_length = X[50:100, 0] \n",
    "petal_length = X[50:100, 1]\n",
    "color = \"blue\"\n",
    "marker = \"x\"\n",
    "label = \"versicolor\"\n",
    "plt.scatter(x = sepal_length,\n",
    "           y = petal_length,\n",
    "           color=color,\n",
    "           marker=marker,\n",
    "           label=label)\n",
    "\n",
    "plt.xlabel(\"speal length [cm]\")\n",
    "plt.ylabel(\"petal length [cm]\")\n",
    "\n",
    "location = \"upper left\"\n",
    "plt.legend(loc = location)"
   ]
  },
  {
   "cell_type": "code",
   "execution_count": 124,
   "metadata": {},
   "outputs": [
    {
     "name": "stdout",
     "output_type": "stream",
     "text": [
      "The time required for incremental\n",
      "0.04393315315246582\n"
     ]
    }
   ],
   "source": [
    "tic = time.time()\n",
    "\n",
    "eta = 0.1\n",
    "n_iter = 10\n",
    "ppn = Perceptron(eta=eta, n_iter = n_iter)\n",
    "\n",
    "ppn.fit(X,\n",
    "       y)\n",
    "\n",
    "    \n",
    "elapsed = time.time() - tic\n",
    "\n",
    "print (\"The time required for incremental\")\n",
    "print (elapsed)"
   ]
  },
  {
   "cell_type": "code",
   "execution_count": 125,
   "metadata": {},
   "outputs": [
    {
     "data": {
      "text/plain": [
       "Text(0, 0.5, 'no. of epochs')"
      ]
     },
     "execution_count": 125,
     "metadata": {},
     "output_type": "execute_result"
    },
    {
     "data": {
      "image/png": "[encoded data removed]",
      "text/plain": [
       "<Figure size 432x288 with 1 Axes>"
      ]
     },
     "metadata": {
      "needs_background": "light"
     },
     "output_type": "display_data"
    }
   ],
   "source": [
    "#plot the misclassifications \n",
    "epochs = range(1, len(ppn.errors_) + 1)\n",
    "misclassifications = ppn.errors_\n",
    "marker = \"o\"\n",
    "plt.plot(epochs, \n",
    "        misclassifications,\n",
    "        marker = marker)\n",
    "\n",
    "plt.xlabel(\"errors\")\n",
    "plt.ylabel(\"no. of epochs\")"
   ]
  },
  {
   "cell_type": "code",
   "execution_count": 126,
   "metadata": {},
   "outputs": [],
   "source": [
    "\n",
    "tic = time.time()\n",
    "\n",
    "def plot_decision_regions(X,y, classifier, resolution = 0.02):\n",
    "    \"\"\"\n",
    "    Convenience functions\n",
    "    \"\"\"\n",
    "    markers = (\"s\", \"x\", \"o\", \"^\", \"v\")\n",
    "    colors = (\"red\", \"blue\", \"lightgreen\", \"gray\", \"cyan\")\n",
    "    cmap = ListedColormap(colors[:len(np.unique(y))])\n",
    "    x1_min, x1_max = X[:,0].min() -1, X[:,0].max() + 1\n",
    "    x2_min, x2_max = X[:,1].min() -1, X[:,1].max() + 1\n",
    "    xx1, xx2 = np.meshgrid(np.arange(x1_min, \n",
    "                                      x1_max,\n",
    "                                      resolution),\n",
    "                           np.arange(x2_min, \n",
    "                                      x2_max,\n",
    "                                      resolution))\n",
    "    \n",
    "    Z = classifier.predict(np.array([xx1.ravel(),\n",
    "                                    xx2.ravel()]).T)\n",
    "    \n",
    "    Z = Z.reshape(xx1.shape)\n",
    "    plt.figure()\n",
    "    plt.contourf(xx1,\n",
    "                xx2,\n",
    "                Z,\n",
    "                alpha = 0.4,\n",
    "                cmap = cmap)\n",
    "    \n",
    "    plt.xlim(xx1.min(),\n",
    "             xx1.max())\n",
    "    \n",
    "    plt.ylim(xx2.min(),\n",
    "             xx2.max())\n",
    "    \n",
    "    for idx, cl in enumerate(np.unique(y)):\n",
    "        plt.scatter(x=X[y == cl, 0],\n",
    "                    y=X[y == cl, 1],\n",
    "                    alpha = 0.8,\n",
    "                    c = cmap(idx),\n",
    "                    marker = markers[idx],\n",
    "                    label = cl)\n",
    "        \n"
   ]
  },
  {
   "cell_type": "code",
   "execution_count": 127,
   "metadata": {},
   "outputs": [
    {
     "name": "stderr",
     "output_type": "stream",
     "text": [
      "'c' argument looks like a single numeric RGB or RGBA sequence, which should be avoided as value-mapping will have precedence in case its length matches with 'x' & 'y'.  Please use a 2-D array with a single row if you really want to specify the same RGB or RGBA value for all points.\n",
      "'c' argument looks like a single numeric RGB or RGBA sequence, which should be avoided as value-mapping will have precedence in case its length matches with 'x' & 'y'.  Please use a 2-D array with a single row if you really want to specify the same RGB or RGBA value for all points.\n"
     ]
    },
    {
     "data": {
      "text/plain": [
       "<matplotlib.legend.Legend at 0x202e9cd93c8>"
      ]
     },
     "execution_count": 127,
     "metadata": {},
     "output_type": "execute_result"
    },
    {
     "data": {
      "image/png": "[encoded data removed]",
      "text/plain": [
       "<Figure size 432x288 with 1 Axes>"
      ]
     },
     "metadata": {
      "needs_background": "light"
     },
     "output_type": "display_data"
    }
   ],
   "source": [
    "X = X\n",
    "y = y\n",
    "classifier=ppn\n",
    "plot_decision_regions(X=X,\n",
    "                      y=y,\n",
    "                      classifier=classifier)\n",
    "\n",
    "plt.xlabel(\"sepal length [cm]\")\n",
    "plt.ylabel(\"petal length [cm]\")\n",
    "\n",
    "location = \"upper left\"\n",
    "plt.legend(loc=location)\n"
   ]
  },
  {
   "cell_type": "code",
   "execution_count": 128,
   "metadata": {},
   "outputs": [],
   "source": [
    "class BatchGD(object):\n",
    "    \n",
    "    def __init__(self, eta = 0.01, n_iter = 50):\n",
    "        self.eta = eta\n",
    "        self.n_iter = n_iter\n",
    "        \n",
    "    def fit(self, X, y):\n",
    "        \n",
    "        self.w_ = np.zeros(1 + X.shape[1])\n",
    "        self.cost_ = []\n",
    "        \n",
    "        for i in range(self.n_iter):\n",
    "            output = self.net_input(X)\n",
    "            errors = (y - output)\n",
    "            self.w_[1:] += self.eta * X.T.dot(errors)\n",
    "            self.w_[0] += self.eta * errors.sum()\n",
    "            cost = (errors ** 2).sum() / 2.0\n",
    "            self.cost_.append(cost)\n",
    "        return self\n",
    "    \n",
    "    def net_input(self, X):\n",
    "        \n",
    "        return np.dot(X, self.w_[1:]) + self.w_[0]\n",
    "    \n",
    "    def activation(self, X):\n",
    "        \n",
    "        return self.net_input(X)\n",
    "    \n",
    "    def predict(self, X):\n",
    "        \n",
    "        return np.where(self.activation(X) >= 0.0, 1, -1)\n",
    "    "
   ]
  },
  {
   "cell_type": "code",
   "execution_count": 130,
   "metadata": {},
   "outputs": [
    {
     "name": "stderr",
     "output_type": "stream",
     "text": [
      "'c' argument looks like a single numeric RGB or RGBA sequence, which should be avoided as value-mapping will have precedence in case its length matches with 'x' & 'y'.  Please use a 2-D array with a single row if you really want to specify the same RGB or RGBA value for all points.\n",
      "'c' argument looks like a single numeric RGB or RGBA sequence, which should be avoided as value-mapping will have precedence in case its length matches with 'x' & 'y'.  Please use a 2-D array with a single row if you really want to specify the same RGB or RGBA value for all points.\n"
     ]
    },
    {
     "data": {
      "text/plain": [
       "<matplotlib.legend.Legend at 0x202e9df57c8>"
      ]
     },
     "execution_count": 130,
     "metadata": {},
     "output_type": "execute_result"
    },
    {
     "data": {
      "image/png": "[encoded data removed]",
      "text/plain": [
       "<Figure size 432x288 with 1 Axes>"
      ]
     },
     "metadata": {
      "needs_background": "light"
     },
     "output_type": "display_data"
    }
   ],
   "source": [
    "X = X\n",
    "y = y\n",
    "classifier=ppn\n",
    "plot_decision_regions(X=X,\n",
    "                      y=y,\n",
    "                      classifier=classifier)\n",
    "\n",
    "plt.xlabel(\"sepal length [cm]\")\n",
    "plt.ylabel(\"petal length [cm]\")\n",
    "\n",
    "location = \"upper left\"\n",
    "plt.legend(loc=location)\n"
   ]
  },
  {
   "cell_type": "code",
   "execution_count": 129,
   "metadata": {},
   "outputs": [
    {
     "name": "stdout",
     "output_type": "stream",
     "text": [
      "The time required for incremental\n",
      "0.05389285087585449\n"
     ]
    },
    {
     "data": {
      "image/png": "[encoded data removed]",
      "text/plain": [
       "<Figure size 432x288 with 2 Axes>"
      ]
     },
     "metadata": {
      "needs_background": "light"
     },
     "output_type": "display_data"
    }
   ],
   "source": [
    "\n",
    "tic = time.time()\n",
    "\n",
    "nrows = 1\n",
    "ncols = 2\n",
    "fig, ax = plt.subplots(nrows=nrows,\n",
    "                       ncols=ncols)\n",
    "\n",
    "n_iter = 10\n",
    "eta = 0.01\n",
    "bGD1 = BatchGD(n_iter = n_iter, \n",
    "               eta=eta)\n",
    "\n",
    "bGD1.fit(X,\n",
    "         y)\n",
    "\n",
    "epochs = range(1, len(bGD1.cost_) + 1)\n",
    "misclassifications = np.log(bGD1.cost_)\n",
    "marker = \"o\"\n",
    "\n",
    "ax[0].plot(epochs, \n",
    "           misclassifications,\n",
    "           marker=marker)\n",
    "\n",
    "ax[0].set_xlabel(\"Epochs\")\n",
    "ax[0].set_ylabel(\"log(Sum-squared-error)\")\n",
    "ax[0].set_title(\"lr = 0.01\")\n",
    "\n",
    "n_iter = 10\n",
    "eta = 0.0001\n",
    "bGD2 = BatchGD(n_iter = n_iter, \n",
    "               eta = eta)\n",
    "\n",
    "bGD2.fit(X,\n",
    "         y)\n",
    "\n",
    "epochs = range(1, len(bGD2.cost_) + 1)\n",
    "misclassifications = bGD2.cost_\n",
    "marker = \"o\"\n",
    "\n",
    "ax[1].plot(epochs, \n",
    "           misclassifications,\n",
    "           marker=marker)\n",
    "\n",
    "ax[1].set_xlabel(\"Epochs\")\n",
    "ax[1].set_ylabel(\"log(Sum-squared-error)\")\n",
    "ax[1].set_title(\"lr = 0.0001\")\n",
    "\n",
    "  \n",
    "elapsed = time.time() - tic\n",
    "\n",
    "print (\"The time required for incremental\")\n",
    "print (elapsed)\n"
   ]
  },
  {
   "cell_type": "markdown",
   "metadata": {},
   "source": [
    "Time taken for batch gradient descent and comparing two different learning rates"
   ]
  },
  {
   "cell_type": "markdown",
   "metadata": {},
   "source": [
    "Decaying gradient descent"
   ]
  },
  {
   "cell_type": "code",
   "execution_count": 132,
   "metadata": {},
   "outputs": [],
   "source": [
    "class BatchGD(object):\n",
    "    \n",
    "    def __init__(self, eta = 0.01, n_iter = 50):\n",
    "        self.eta = eta\n",
    "        self.n_iter = n_iter\n",
    "        \n",
    "    def fit(self, X, y):\n",
    "        \n",
    "        self.w_ = np.zeros(1 + X.shape[1])\n",
    "        self.cost_ = []\n",
    "        \n",
    "        for i in range(self.n_iter):\n",
    "            output = self.net_input(X)\n",
    "            errors = (y - output)\n",
    "            self.w_[1:] += 0.8**(self.eta) * X.T.dot(errors)\n",
    "            self.w_[0] += 0.8**(self.eta) * errors.sum()\n",
    "            cost = (errors ** 2).sum() / 2.0\n",
    "            self.cost_.append(cost)\n",
    "        return self\n",
    "    \n",
    "    def net_input(self, X):\n",
    "        \n",
    "        return np.dot(X, self.w_[1:]) + self.w_[0]\n",
    "    \n",
    "    def activation(self, X):\n",
    "        \n",
    "        return self.net_input(X)\n",
    "    \n",
    "    def predict(self, X):\n",
    "        \n",
    "        return np.where(self.activation(X) >= 0.0, 1, -1)\n",
    "    "
   ]
  },
  {
   "cell_type": "code",
   "execution_count": 133,
   "metadata": {},
   "outputs": [
    {
     "name": "stdout",
     "output_type": "stream",
     "text": [
      "The time required for incremental\n",
      "0.027985334396362305\n"
     ]
    },
    {
     "data": {
      "image/png": "[encoded data removed]",
      "text/plain": [
       "<Figure size 432x288 with 2 Axes>"
      ]
     },
     "metadata": {
      "needs_background": "light"
     },
     "output_type": "display_data"
    }
   ],
   "source": [
    "\n",
    "tic = time.time()\n",
    "\n",
    "nrows = 1\n",
    "ncols = 2\n",
    "fig, ax = plt.subplots(nrows=nrows,\n",
    "                       ncols=ncols)\n",
    "\n",
    "n_iter = 10\n",
    "eta = 0.01\n",
    "bGD1 = BatchGD(n_iter = n_iter, \n",
    "               eta=eta)\n",
    "\n",
    "bGD1.fit(X,\n",
    "         y)\n",
    "\n",
    "epochs = range(1, len(bGD1.cost_) + 1)\n",
    "misclassifications = np.log(bGD1.cost_)\n",
    "marker = \"o\"\n",
    "\n",
    "ax[0].plot(epochs, \n",
    "           misclassifications,\n",
    "           marker=marker)\n",
    "\n",
    "ax[0].set_xlabel(\"Epochs\")\n",
    "ax[0].set_ylabel(\"log(Sum-squared-error)\")\n",
    "ax[0].set_title(\"lr = 0.01\")\n",
    "\n",
    "n_iter = 10\n",
    "eta = 0.0001\n",
    "bGD2 = BatchGD(n_iter = n_iter, \n",
    "               eta = eta)\n",
    "\n",
    "bGD2.fit(X,\n",
    "         y)\n",
    "\n",
    "epochs = range(1, len(bGD2.cost_) + 1)\n",
    "misclassifications = bGD2.cost_\n",
    "marker = \"o\"\n",
    "\n",
    "ax[1].plot(epochs, \n",
    "           misclassifications,\n",
    "           marker=marker)\n",
    "\n",
    "ax[1].set_xlabel(\"Epochs\")\n",
    "ax[1].set_ylabel(\"log(Sum-squared-error)\")\n",
    "ax[1].set_title(\"lr = 0.0001\")\n",
    "\n",
    "  \n",
    "elapsed = time.time() - tic\n",
    "\n",
    "print (\"The time required for incremental\")\n",
    "print (elapsed)\n"
   ]
  },
  {
   "cell_type": "markdown",
   "metadata": {},
   "source": [
    "Adaptive learning rate:"
   ]
  },
  {
   "cell_type": "code",
   "execution_count": 136,
   "metadata": {},
   "outputs": [],
   "source": [
    "class BatchGD(object):\n",
    "    \n",
    "    def __init__(self, eta = 0.01, n_iter = 50):\n",
    "        self.eta = eta\n",
    "        self.n_iter = n_iter\n",
    "        \n",
    "    def fit(self, X, y):\n",
    "        \n",
    "        self.w_ = np.zeros(1 + X.shape[1])\n",
    "        self.cost_ = []\n",
    "        \n",
    "        for i in range(self.n_iter):\n",
    "            output = self.net_input(X)\n",
    "            errors = (y - output)\n",
    "            if errors.all() >= 0.5:\n",
    "                self.w_[1:] += 0.9*(self.eta) * X.T.dot(errors)\n",
    "                self.w_[0] += 0.9*(self.eta) * errors.sum()\n",
    "                cost = (errors ** 2).sum() / 2.0\n",
    "                self.cost_.append(cost)\n",
    "            else:\n",
    "                self.w_[1:] += 1.02*(self.eta) * X.T.dot(errors)\n",
    "                self.w_[0] += 1.02*(self.eta) * errors.sum()\n",
    "                cost = (errors ** 2).sum() / 2.0\n",
    "                self.cost_.append(cost)\n",
    "                \n",
    "        return self\n",
    "    \n",
    "    def net_input(self, X):\n",
    "        \n",
    "        return np.dot(X, self.w_[1:]) + self.w_[0]\n",
    "    \n",
    "    def activation(self, X):\n",
    "        \n",
    "        return self.net_input(X)\n",
    "    \n",
    "    def predict(self, X):\n",
    "        \n",
    "        return np.where(self.activation(X) >= 0.0, 1, -1)\n",
    "    "
   ]
  },
  {
   "cell_type": "code",
   "execution_count": 137,
   "metadata": {},
   "outputs": [
    {
     "name": "stdout",
     "output_type": "stream",
     "text": [
      "The time required for incremental\n",
      "0.0546879768371582\n"
     ]
    },
    {
     "data": {
      "image/png": "[encoded data removed]",
      "text/plain": [
       "<Figure size 432x288 with 2 Axes>"
      ]
     },
     "metadata": {
      "needs_background": "light"
     },
     "output_type": "display_data"
    }
   ],
   "source": [
    "\n",
    "tic = time.time()\n",
    "\n",
    "nrows = 1\n",
    "ncols = 2\n",
    "fig, ax = plt.subplots(nrows=nrows,\n",
    "                       ncols=ncols)\n",
    "\n",
    "n_iter = 10\n",
    "eta = 0.01\n",
    "bGD1 = BatchGD(n_iter = n_iter, \n",
    "               eta=eta)\n",
    "\n",
    "bGD1.fit(X,\n",
    "         y)\n",
    "\n",
    "epochs = range(1, len(bGD1.cost_) + 1)\n",
    "misclassifications = np.log(bGD1.cost_)\n",
    "marker = \"o\"\n",
    "\n",
    "ax[0].plot(epochs, \n",
    "           misclassifications,\n",
    "           marker=marker)\n",
    "\n",
    "ax[0].set_xlabel(\"Epochs\")\n",
    "ax[0].set_ylabel(\"log(Sum-squared-error)\")\n",
    "ax[0].set_title(\"lr = 0.01\")\n",
    "\n",
    "n_iter = 10\n",
    "eta = 0.0001\n",
    "bGD2 = BatchGD(n_iter = n_iter, \n",
    "               eta = eta)\n",
    "\n",
    "bGD2.fit(X,\n",
    "         y)\n",
    "\n",
    "epochs = range(1, len(bGD2.cost_) + 1)\n",
    "misclassifications = bGD2.cost_\n",
    "marker = \"o\"\n",
    "\n",
    "ax[1].plot(epochs, \n",
    "           misclassifications,\n",
    "           marker=marker)\n",
    "\n",
    "ax[1].set_xlabel(\"Epochs\")\n",
    "ax[1].set_ylabel(\"log(Sum-squared-error)\")\n",
    "ax[1].set_title(\"lr = 0.0001\")\n",
    "\n",
    "  \n",
    "elapsed = time.time() - tic\n",
    "\n",
    "print (\"The time required for incremental\")\n",
    "print (elapsed)\n"
   ]
  },
  {
   "cell_type": "code",
   "execution_count": null,
   "metadata": {},
   "outputs": [],
   "source": []
  }
 ],
 "metadata": {
  "kernelspec": {
   "display_name": "Python 3",
   "language": "python",
   "name": "python3"
  },
  "language_info": {
   "codemirror_mode": {
    "name": "ipython",
    "version": 3
   },
   "file_extension": ".py",
   "mimetype": "text/x-python",
   "name": "python",
   "nbconvert_exporter": "python",
   "pygments_lexer": "ipython3",
   "version": "3.7.6"
  }
 },
 "nbformat": 4,
 "nbformat_minor": 4
}
